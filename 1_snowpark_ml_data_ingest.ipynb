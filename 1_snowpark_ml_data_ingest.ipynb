{
 "cells": [
  {
   "cell_type": "markdown",
   "metadata": {},
   "source": [
    "## 1. Data Ingestion\n",
    "\n",
    "The `diamonds` dataset has been widely used in data science and machine learning. We will use it to demonstrate Snowflake's native data science transformers in terms of database functionality and Spark & Pandas comportablity, using non-synthetic and statistically appropriate data that is well known to the ML community.\n",
    "\n"
   ]
  },
  {
   "cell_type": "markdown",
   "metadata": {},
   "source": [
    "### Import Libraries"
   ]
  },
  {
   "cell_type": "code",
   "execution_count": null,
   "metadata": {},
   "outputs": [],
   "source": [
    "# Snowpark for Python\n",
    "from snowflake.snowpark import Session\n",
    "from snowflake.snowpark.version import VERSION\n",
    "from snowflake.snowpark.types import StructType, StructField, DoubleType, StringType\n",
    "import snowflake.snowpark.functions as F\n",
    "\n",
    "# data science libs\n",
    "import numpy as np\n",
    "\n",
    "# misc\n",
    "import json"
   ]
  },
  {
   "cell_type": "code",
   "execution_count": 3,
   "metadata": {},
   "outputs": [
    {
     "name": "stdout",
     "output_type": "stream",
     "text": [
      "Collecting fosforio\n",
      "  Downloading https://files.pythonhosted.org/packages/39/85/527779b1003babb2deff0438e746d6b7ef8140d5c07f8d4992edcf758f3e/fosforio-1.0.1-py3-none-any.whl\n",
      "Collecting pandas==2.0.0\n",
      "\u001b[?25l  Downloading https://files.pythonhosted.org/packages/d0/70/7296ce76d838e0023edf3cc287a437b66957f4155678f514d82ddd6d1e1b/pandas-2.0.0-cp310-cp310-manylinux_2_17_x86_64.manylinux2014_x86_64.whl (12.3MB)\n",
      "\u001b[K     |████████████████████████████████| 12.3MB 16.5MB/s eta 0:00:01    |▎                               | 122kB 16.5MB/s eta 0:00:01\n",
      "\u001b[?25hCollecting numpy>=1.21.0; python_version >= \"3.10\"\n",
      "\u001b[?25l  Downloading https://files.pythonhosted.org/packages/4b/d7/ecf66c1cd12dc28b4040b15ab4d17b773b87fa9d29ca16125de01adb36cd/numpy-1.26.4-cp310-cp310-manylinux_2_17_x86_64.manylinux2014_x86_64.whl (18.2MB)\n",
      "\u001b[K     |████████████████████████████████| 18.2MB 37.3MB/s eta 0:00:01\n",
      "\u001b[?25hCollecting tzdata>=2022.1\n",
      "\u001b[?25l  Downloading https://files.pythonhosted.org/packages/65/58/f9c9e6be752e9fcb8b6a0ee9fb87e6e7a1f6bcab2cdc73f02bb7ba91ada0/tzdata-2024.1-py2.py3-none-any.whl (345kB)\n",
      "\u001b[K     |████████████████████████████████| 348kB 50.6MB/s eta 0:00:01\n",
      "\u001b[?25hCollecting pytz>=2020.1\n",
      "\u001b[?25l  Downloading https://files.pythonhosted.org/packages/9c/3d/a121f284241f08268b21359bd425f7d4825cffc5ac5cd0e1b3d82ffd2b10/pytz-2024.1-py2.py3-none-any.whl (505kB)\n",
      "\u001b[K     |████████████████████████████████| 512kB 47.0MB/s eta 0:00:01\n",
      "\u001b[?25hCollecting python-dateutil>=2.8.2\n",
      "\u001b[?25l  Downloading https://files.pythonhosted.org/packages/ec/57/56b9bcc3c9c6a792fcbaf139543cee77261f3651ca9da0c93f5c1221264b/python_dateutil-2.9.0.post0-py2.py3-none-any.whl (229kB)\n",
      "\u001b[K     |████████████████████████████████| 235kB 53.4MB/s eta 0:00:01\n",
      "\u001b[?25hCollecting six>=1.5\n",
      "  Downloading https://files.pythonhosted.org/packages/d9/5a/e7c31adbe875f2abbb91bd84cf2dc52d792b5a01506781dbcf25c91daf11/six-1.16.0-py2.py3-none-any.whl\n",
      "\u001b[31mERROR: openapi-schema-validator 0.6.2 has requirement jsonschema<5.0.0,>=4.19.1, but you'll have jsonschema 4.19.0 which is incompatible.\u001b[0m\n",
      "\u001b[31mERROR: mosaic-ai-serving 1.0.0 has requirement Flask==2.1.1; python_version >= \"3.7\", but you'll have flask 2.2.5 which is incompatible.\u001b[0m\n",
      "\u001b[31mERROR: mosaic-ai-serving 1.0.0 has requirement numpy==1.24.1; python_version >= \"3.10\", but you'll have numpy 1.26.4 which is incompatible.\u001b[0m\n",
      "Installing collected packages: numpy, tzdata, pytz, six, python-dateutil, pandas, fosforio\n",
      "Successfully installed fosforio-1.0.1 numpy-1.26.4 pandas-2.0.0 python-dateutil-2.9.0.post0 pytz-2024.1 six-1.16.0 tzdata-2024.1\n",
      "\u001b[33mWARNING: You are using pip version 19.3.1; however, version 24.0 is available.\n",
      "You should consider upgrading via the 'pip install --upgrade pip' command.\u001b[0m\n",
      "Note: you may need to restart the kernel to use updated packages.\n"
     ]
    }
   ],
   "source": [
    "pip install fosforio"
   ]
  },
  {
   "cell_type": "code",
   "execution_count": 1,
   "metadata": {},
   "outputs": [
    {
     "name": "stdout",
     "output_type": "stream",
     "text": [
      "Connection manager service url initialised to http://fdc-project-manager:80/project-manager\n",
      "If you need to update its value then update the variable CONNECTION_MANAGER_BASE_URL in os env.\n"
     ]
    }
   ],
   "source": [
    "from fosforio import snowflake"
   ]
  },
  {
   "cell_type": "code",
   "execution_count": 8,
   "metadata": {},
   "outputs": [
    {
     "name": "stdout",
     "output_type": "stream",
     "text": [
      "Collecting snowflake\n",
      "  Downloading https://files.pythonhosted.org/packages/1f/46/a456b8d3ea1f03d172503166e1f3d58c67bb5b3cfd73d32bdb6c55b4d885/snowflake-0.8.0-py3-none-any.whl\n",
      "Collecting snowflake-legacy\n",
      "  Downloading https://files.pythonhosted.org/packages/75/c9/bf69f07cf4f23fba13bd79e8e93b3b8fa7914fa8e0ef66e42332cc02b6d5/snowflake_legacy-0.8.0-py3-none-any.whl\n",
      "Collecting snowflake-core==0.8.0\n",
      "\u001b[?25l  Downloading https://files.pythonhosted.org/packages/6f/55/1053b2e8e000c8aa68a6ded471a4fcc209fef77071c8d86096586a749120/snowflake_core-0.8.0-py3-none-any.whl (443kB)\n",
      "\u001b[K     |████████████████████████████████| 450kB 10.4MB/s eta 0:00:01\n",
      "\u001b[?25hCollecting urllib3\n",
      "\u001b[?25l  Downloading https://files.pythonhosted.org/packages/a2/73/a68704750a7679d0b6d3ad7aa8d4da8e14e151ae82e6fee774e6e0d05ec8/urllib3-2.2.1-py3-none-any.whl (121kB)\n",
      "\u001b[K     |████████████████████████████████| 122kB 46.1MB/s eta 0:00:01\n",
      "\u001b[?25hCollecting atpublic>=4\n",
      "  Downloading https://files.pythonhosted.org/packages/5e/5e/3613e5aa17ac07a69e89a5f47706f5719035f386eb024d6680483926b034/atpublic-4.1.0-py3-none-any.whl\n",
      "Collecting pydantic>=1.10.7\n",
      "\u001b[?25l  Downloading https://files.pythonhosted.org/packages/ed/76/9a17032880ed27f2dbd490c77a3431cbc80f47ba81534131de3c2846e736/pydantic-2.7.1-py3-none-any.whl (409kB)\n",
      "\u001b[K     |████████████████████████████████| 409kB 51.1MB/s eta 0:00:01\n",
      "\u001b[?25hCollecting snowflake-snowpark-python<2.0.0,>=1.5.0\n",
      "\u001b[?25l  Downloading https://files.pythonhosted.org/packages/20/c5/bf13a60d509d3c457329d8df300a755c39880090e4124543bc12606127e4/snowflake_snowpark_python-1.16.0-py3-none-any.whl (450kB)\n",
      "\u001b[K     |████████████████████████████████| 450kB 51.3MB/s eta 0:00:01\n",
      "\u001b[?25hCollecting python-dateutil>=2.8.2\n",
      "  Using cached https://files.pythonhosted.org/packages/ec/57/56b9bcc3c9c6a792fcbaf139543cee77261f3651ca9da0c93f5c1221264b/python_dateutil-2.9.0.post0-py2.py3-none-any.whl\n",
      "Collecting pydantic-core==2.18.2\n",
      "\u001b[?25l  Downloading https://files.pythonhosted.org/packages/a6/a5/c351d83454267964d24b79e9116d716157071df4682f865d1274235a0cac/pydantic_core-2.18.2-cp310-cp310-manylinux_2_17_x86_64.manylinux2014_x86_64.whl (2.1MB)\n",
      "\u001b[K     |████████████████████████████████| 2.1MB 45.1MB/s eta 0:00:01\n",
      "\u001b[?25hCollecting annotated-types>=0.4.0\n",
      "  Downloading https://files.pythonhosted.org/packages/28/78/d31230046e58c207284c6b2c4e8d96e6d3cb4e52354721b944d3e1ee4aa5/annotated_types-0.6.0-py3-none-any.whl\n",
      "Collecting typing-extensions>=4.6.1\n",
      "  Downloading https://files.pythonhosted.org/packages/01/f3/936e209267d6ef7510322191003885de524fc48d1b43269810cd589ceaf5/typing_extensions-4.11.0-py3-none-any.whl\n",
      "Collecting snowflake-connector-python<4.0.0,>=3.10.0\n",
      "\u001b[?25l  Downloading https://files.pythonhosted.org/packages/28/5a/69a0705735ffae023ea3f4c86e92bb4129e85606a51b587cdaa2f953ada7/snowflake_connector_python-3.10.0-cp310-cp310-manylinux_2_17_x86_64.manylinux2014_x86_64.whl (2.5MB)\n",
      "\u001b[K     |████████████████████████████████| 2.5MB 40.0MB/s eta 0:00:01\n",
      "\u001b[?25hCollecting cloudpickle!=2.1.0,!=2.2.0,<=2.2.1,>=1.6.0; python_version < \"3.11\"\n",
      "  Downloading https://files.pythonhosted.org/packages/15/80/44286939ca215e88fa827b2aeb6fa3fd2b4a7af322485c7170d6f9fd96e0/cloudpickle-2.2.1-py3-none-any.whl\n",
      "Collecting pyyaml\n",
      "\u001b[?25l  Downloading https://files.pythonhosted.org/packages/29/61/bf33c6c85c55bc45a29eee3195848ff2d518d84735eb0e2d8cb42e0d285e/PyYAML-6.0.1-cp310-cp310-manylinux_2_17_x86_64.manylinux2014_x86_64.whl (705kB)\n",
      "\u001b[K     |████████████████████████████████| 706kB 38.3MB/s eta 0:00:01\n",
      "\u001b[?25hCollecting setuptools>=40.6.0\n",
      "\u001b[?25l  Downloading https://files.pythonhosted.org/packages/f7/29/13965af254e3373bceae8fb9a0e6ea0d0e571171b80d6646932131d6439b/setuptools-69.5.1-py3-none-any.whl (894kB)\n",
      "\u001b[K     |████████████████████████████████| 901kB 43.1MB/s eta 0:00:01\n",
      "\u001b[?25hCollecting wheel\n",
      "\u001b[?25l  Downloading https://files.pythonhosted.org/packages/7d/cd/d7460c9a869b16c3dd4e1e403cce337df165368c71d6af229a74699622ce/wheel-0.43.0-py3-none-any.whl (65kB)\n",
      "\u001b[K     |████████████████████████████████| 71kB 12.9MB/s eta 0:00:01\n",
      "\u001b[?25hCollecting six>=1.5\n",
      "  Using cached https://files.pythonhosted.org/packages/d9/5a/e7c31adbe875f2abbb91bd84cf2dc52d792b5a01506781dbcf25c91daf11/six-1.16.0-py2.py3-none-any.whl\n",
      "Collecting cryptography<43.0.0,>=3.1.0\n",
      "\u001b[?25l  Downloading https://files.pythonhosted.org/packages/79/fd/4525835d3e42e2db30169d42215ce74762f447fcbf01ed02f74f59bd74cb/cryptography-42.0.7-cp39-abi3-manylinux_2_17_x86_64.manylinux2014_x86_64.whl (3.8MB)\n",
      "\u001b[K     |████████████████████████████████| 3.8MB 46.1MB/s eta 0:00:01\n",
      "\u001b[?25hCollecting pytz\n",
      "  Using cached https://files.pythonhosted.org/packages/9c/3d/a121f284241f08268b21359bd425f7d4825cffc5ac5cd0e1b3d82ffd2b10/pytz-2024.1-py2.py3-none-any.whl\n",
      "Collecting requests<3.0.0\n",
      "\u001b[?25l  Downloading https://files.pythonhosted.org/packages/70/8e/0e2d847013cb52cd35b38c009bb167a1a26b2ce6cd6965bf26b47bc0bf44/requests-2.31.0-py3-none-any.whl (62kB)\n",
      "\u001b[K     |████████████████████████████████| 71kB 14.3MB/s eta 0:00:01\n",
      "\u001b[?25hCollecting filelock<4,>=3.5\n",
      "  Downloading https://files.pythonhosted.org/packages/41/24/0b023b6537dfc9bae2c779353998e3e99ac7dfff4222fc6126650e93c3f3/filelock-3.14.0-py3-none-any.whl\n",
      "Collecting sortedcontainers>=2.4.0\n",
      "  Downloading https://files.pythonhosted.org/packages/32/46/9cb0e58b2deb7f82b84065f37f3bffeb12413f947f9388e4cac22c4621ce/sortedcontainers-2.4.0-py2.py3-none-any.whl\n",
      "Collecting cffi<2.0.0,>=1.9\n",
      "\u001b[?25l  Downloading https://files.pythonhosted.org/packages/c9/7c/43d81bdd5a915923c3bad5bb4bff401ea00ccc8e28433fb6083d2e3bf58e/cffi-1.16.0-cp310-cp310-manylinux_2_17_x86_64.manylinux2014_x86_64.whl (443kB)\n",
      "\u001b[K     |████████████████████████████████| 450kB 44.3MB/s eta 0:00:01\n",
      "\u001b[?25hCollecting idna<4,>=2.5\n",
      "\u001b[?25l  Downloading https://files.pythonhosted.org/packages/e5/3e/741d8c82801c347547f8a2a06aa57dbb1992be9e948df2ea0eda2c8b79e8/idna-3.7-py3-none-any.whl (66kB)\n",
      "\u001b[K     |████████████████████████████████| 71kB 12.0MB/s eta 0:00:01\n",
      "\u001b[?25hCollecting tomlkit\n",
      "  Downloading https://files.pythonhosted.org/packages/73/6d/b5406752c4e4ba86692b22fab0afed8b48f16bdde8f92e1d852976b61dc6/tomlkit-0.12.5-py3-none-any.whl\n",
      "Collecting charset-normalizer<4,>=2\n",
      "\u001b[?25l  Downloading https://files.pythonhosted.org/packages/da/f1/3702ba2a7470666a62fd81c58a4c40be00670e5006a67f4d626e57f013ae/charset_normalizer-3.3.2-cp310-cp310-manylinux_2_17_x86_64.manylinux2014_x86_64.whl (142kB)\n",
      "\u001b[K     |████████████████████████████████| 143kB 48.4MB/s eta 0:00:01\n",
      "\u001b[?25hCollecting pyjwt<3.0.0\n",
      "  Downloading https://files.pythonhosted.org/packages/2b/4f/e04a8067c7c96c364cef7ef73906504e2f40d690811c021e1a1901473a19/PyJWT-2.8.0-py3-none-any.whl\n",
      "Collecting certifi>=2017.4.17\n",
      "\u001b[?25l  Downloading https://files.pythonhosted.org/packages/ba/06/a07f096c664aeb9f01624f858c3add0a4e913d6c96257acb4fce61e7de14/certifi-2024.2.2-py3-none-any.whl (163kB)\n",
      "\u001b[K     |████████████████████████████████| 163kB 44.4MB/s eta 0:00:01\n",
      "\u001b[?25hCollecting pyOpenSSL<25.0.0,>=16.2.0\n",
      "\u001b[?25l  Downloading https://files.pythonhosted.org/packages/54/a7/2104f674a5a6845b04c8ff01659becc6b8978ca410b82b94287e0b1e018b/pyOpenSSL-24.1.0-py3-none-any.whl (56kB)\n",
      "\u001b[K     |████████████████████████████████| 61kB 11.1MB/s eta 0:00:01\n",
      "\u001b[?25hCollecting platformdirs<5.0.0,>=2.6.0\n",
      "  Downloading https://files.pythonhosted.org/packages/b0/15/1691fa5aaddc0c4ea4901c26f6137c29d5f6673596fe960a0340e8c308e1/platformdirs-4.2.1-py3-none-any.whl\n",
      "Collecting packaging\n",
      "\u001b[?25l  Downloading https://files.pythonhosted.org/packages/49/df/1fceb2f8900f8639e278b056416d49134fb8d84c5942ffaa01ad34782422/packaging-24.0-py3-none-any.whl (53kB)\n",
      "\u001b[K     |████████████████████████████████| 61kB 11.5MB/s eta 0:00:01\n",
      "\u001b[?25hCollecting asn1crypto<2.0.0,>0.24.0\n",
      "\u001b[?25l  Downloading https://files.pythonhosted.org/packages/c9/7f/09065fd9e27da0eda08b4d6897f1c13535066174cc023af248fc2a8d5e5a/asn1crypto-1.5.1-py2.py3-none-any.whl (105kB)\n",
      "\u001b[K     |████████████████████████████████| 112kB 48.9MB/s eta 0:00:01\n",
      "\u001b[?25hCollecting pycparser\n",
      "\u001b[?25l  Downloading https://files.pythonhosted.org/packages/13/a3/a812df4e2dd5696d1f351d58b8fe16a405b234ad2886a0dab9183fb78109/pycparser-2.22-py3-none-any.whl (117kB)\n",
      "\u001b[K     |████████████████████████████████| 122kB 46.1MB/s eta 0:00:01\n",
      "\u001b[31mERROR: openapi-schema-validator 0.6.2 has requirement jsonschema<5.0.0,>=4.19.1, but you'll have jsonschema 4.19.0 which is incompatible.\u001b[0m\n",
      "\u001b[31mERROR: mosaic-ai-client 1.0.0 has requirement matplotlib==3.1.1, but you'll have matplotlib 3.6.0 which is incompatible.\u001b[0m\n",
      "\u001b[31mERROR: jupyterlab 3.2.4 has requirement jupyter-server~=1.4, but you'll have jupyter-server 2.7.3 which is incompatible.\u001b[0m\n",
      "\u001b[31mERROR: jsonschema-path 0.3.2 has requirement referencing<0.32.0,>=0.28.0, but you'll have referencing 0.33.0 which is incompatible.\u001b[0m\n",
      "\u001b[?25hInstalling collected packages: snowflake-legacy, urllib3, atpublic, typing-extensions, pydantic-core, annotated-types, pydantic, pycparser, cffi, cryptography, pytz, idna, charset-normalizer, certifi, requests, filelock, sortedcontainers, tomlkit, pyjwt, pyOpenSSL, platformdirs, packaging, asn1crypto, snowflake-connector-python, cloudpickle, pyyaml, setuptools, wheel, snowflake-snowpark-python, six, python-dateutil, snowflake-core, snowflake\n",
      "Successfully installed annotated-types-0.6.0 asn1crypto-1.5.1 atpublic-4.1.0 certifi-2024.2.2 cffi-1.16.0 charset-normalizer-3.3.2 cloudpickle-2.2.1 cryptography-42.0.7 filelock-3.14.0 idna-3.7 packaging-24.0 platformdirs-4.2.1 pyOpenSSL-24.1.0 pycparser-2.22 pydantic-2.7.1 pydantic-core-2.18.2 pyjwt-2.8.0 python-dateutil-2.9.0.post0 pytz-2024.1 pyyaml-6.0.1 requests-2.31.0 setuptools-69.5.1 six-1.16.0 snowflake-0.8.0 snowflake-connector-python-3.10.0 snowflake-core-0.8.0 snowflake-legacy-0.8.0 snowflake-snowpark-python-1.16.0 sortedcontainers-2.4.0 tomlkit-0.12.5 typing-extensions-4.11.0 urllib3-2.2.1 wheel-0.43.0\n",
      "\u001b[33mWARNING: Target directory /tmp/pip_packages/__pycache__ already exists. Specify --upgrade to force replacement.\u001b[0m\n",
      "\u001b[33mWARNING: Target directory /tmp/pip_packages/pytz already exists. Specify --upgrade to force replacement.\u001b[0m\n",
      "\u001b[33mWARNING: Target directory /tmp/pip_packages/pytz-2024.1.dist-info already exists. Specify --upgrade to force replacement.\u001b[0m\n",
      "\u001b[33mWARNING: Target directory /tmp/pip_packages/six.py already exists. Specify --upgrade to force replacement.\u001b[0m\n",
      "\u001b[33mWARNING: Target directory /tmp/pip_packages/six-1.16.0.dist-info already exists. Specify --upgrade to force replacement.\u001b[0m\n",
      "\u001b[33mWARNING: Target directory /tmp/pip_packages/dateutil already exists. Specify --upgrade to force replacement.\u001b[0m\n",
      "\u001b[33mWARNING: Target directory /tmp/pip_packages/python_dateutil-2.9.0.post0.dist-info already exists. Specify --upgrade to force replacement.\u001b[0m\n",
      "\u001b[33mWARNING: Target directory /tmp/pip_packages/bin already exists. Specify --upgrade to force replacement.\u001b[0m\n",
      "\u001b[33mWARNING: You are using pip version 19.3.1; however, version 24.0 is available.\n",
      "You should consider upgrading via the 'pip install --upgrade pip' command.\u001b[0m\n",
      "Note: you may need to restart the kernel to use updated packages.\n"
     ]
    }
   ],
   "source": [
    "pip install snowflake"
   ]
  },
  {
   "cell_type": "code",
   "execution_count": 1,
   "metadata": {},
   "outputs": [
    {
     "ename": "NameError",
     "evalue": "name 'fosforio' is not defined",
     "output_type": "error",
     "traceback": [
      "\u001b[0;31m---------------------------------------------------------------------------\u001b[0m",
      "\u001b[0;31mNameError\u001b[0m                                 Traceback (most recent call last)",
      "Cell \u001b[0;32mIn[1], line 1\u001b[0m\n\u001b[0;32m----> 1\u001b[0m conn \u001b[38;5;241m=\u001b[39m \u001b[43mfosforio\u001b[49m\u001b[38;5;241m.\u001b[39msnowflake\u001b[38;5;241m.\u001b[39mget_connection(\u001b[38;5;124m\"\u001b[39m\u001b[38;5;124mSnowflake_Rakesh\u001b[39m\u001b[38;5;124m\"\u001b[39m)\n\u001b[1;32m      2\u001b[0m \u001b[38;5;66;03m# Current Environment Details\u001b[39;00m\n\u001b[1;32m      3\u001b[0m \u001b[38;5;66;03m##print('\\nConnection Established with the following parameters:')\u001b[39;00m\n\u001b[1;32m      4\u001b[0m \u001b[38;5;66;03m##print('User                        : {}'.format(snowflake_connection.dbusername))\u001b[39;00m\n\u001b[0;32m   (...)\u001b[0m\n\u001b[1;32m      9\u001b[0m \u001b[38;5;66;03m##print('Snowflake version           : {}'.format(snowflake_environment[0][1]))\u001b[39;00m\n\u001b[1;32m     10\u001b[0m \u001b[38;5;66;03m##print('Snowpark for Python version : {}.{}.{}'.format(snowpark_version[0],snowpark_version[1],snowpark_version[2]))\u001b[39;00m\n",
      "\u001b[0;31mNameError\u001b[0m: name 'fosforio' is not defined"
     ]
    }
   ],
   "source": [
    "conn = fosforio.snowflake.get_connection(\"Snowflake_Rakesh\")\n",
    "# Current Environment Details\n",
    "##print('\\nConnection Established with the following parameters:')\n",
    "##print('User                        : {}'.format(snowflake_connection.dbusername))\n",
    "##print('Role                        : {}'.format(session.get_current_role()))\n",
    "##print('Database                    : {}'.format(session.get_current_database()))\n",
    "##print('Schema                      : {}'.format(session.get_current_schema()))\n",
    "##print('Warehouse                   : {}'.format(session.get_current_warehouse()))\n",
    "##print('Snowflake version           : {}'.format(snowflake_environment[0][1]))\n",
    "##print('Snowpark for Python version : {}.{}.{}'.format(snowpark_version[0],snowpark_version[1],snowpark_version[2]))"
   ]
  },
  {
   "cell_type": "markdown",
   "metadata": {
    "tags": []
   },
   "source": [
    "### Establish Secure Connection to Snowflake\n",
    "\n",
    "*Other connection options include Username/Password, MFA, OAuth, Okta, SSO. For more information, refer to the [Python Connector](https://docs.snowflake.com/en/developer-guide/python-connector/python-connector-example) documentation.*"
   ]
  },
  {
   "cell_type": "code",
   "execution_count": 2,
   "metadata": {},
   "outputs": [
    {
     "name": "stdout",
     "output_type": "stream",
     "text": [
      "\n",
      "Connection Established with the following parameters:\n",
      "User                        : SIKHADAS\n",
      "Role                        : \"ACCOUNTADMIN\"\n",
      "Database                    : \"ML_HOL_DB\"\n",
      "Schema                      : \"ML_HOL_SCHEMA\"\n",
      "Warehouse                   : \"ML_HOL_WH\"\n",
      "Snowflake version           : 8.9.2\n",
      "Snowpark for Python version : 1.12.0\n"
     ]
    }
   ],
   "source": [
    "# Make a Snowpark Connection\n",
    "# Create Snowflake Session object\n",
    "connection_parameters = json.load(open('connection.json'))\n",
    "session = Session.builder.configs(connection_parameters).create()\n",
    "session.sql_simplifier_enabled = True\n",
    "\n",
    "snowflake_environment = session.sql('SELECT current_user(), current_version()').collect()\n",
    "snowpark_version = VERSION\n",
    "\n",
    "# Current Environment Details\n",
    "print('\\nConnection Established with the following parameters:')\n",
    "print('User                        : {}'.format(snowflake_environment[0][0]))\n",
    "print('Role                        : {}'.format(session.get_current_role()))\n",
    "print('Database                    : {}'.format(session.get_current_database()))\n",
    "print('Schema                      : {}'.format(session.get_current_schema()))\n",
    "print('Warehouse                   : {}'.format(session.get_current_warehouse()))\n",
    "print('Snowflake version           : {}'.format(snowflake_environment[0][1]))\n",
    "print('Snowpark for Python version : {}.{}.{}'.format(snowpark_version[0],snowpark_version[1],snowpark_version[2]))"
   ]
  },
  {
   "cell_type": "markdown",
   "metadata": {},
   "source": [
    "### Use the Snowpark DataFrame Reader to read in data from the externally staged `diamonds` CSV file \n",
    "\n",
    "In setup.sql, we staged the `diamonds.csv` file from an external s3 bucket. Now, we can read it in.\n",
    "\n",
    "For more information on loading data, see documentation on [snowflake.snowpark.DataFrameReader](https://docs.snowflake.com/ko/developer-guide/snowpark/reference/python/api/snowflake.snowpark.DataFrameReader.html).\n",
    "\n",
    "\n"
   ]
  },
  {
   "cell_type": "code",
   "execution_count": 3,
   "metadata": {},
   "outputs": [
    {
     "name": "stdout",
     "output_type": "stream",
     "text": [
      "-----------------------------------------------------------------------------------------------------------------------------------\n",
      "|\"name\"                                              |\"size\"   |\"md5\"                             |\"last_modified\"                |\n",
      "-----------------------------------------------------------------------------------------------------------------------------------\n",
      "|s3://sfquickstarts/intro-to-machine-learning-wi...  |2772143  |4d3d1d4bbad5e0806dbaec425cf90196  |Mon, 10 Jul 2023 22:04:47 GMT  |\n",
      "-----------------------------------------------------------------------------------------------------------------------------------\n",
      "\n",
      "------------------------------------------------------------------------------------------------\n",
      "|\"carat\"  |\"cut\"      |\"color\"  |\"clarity\"  |\"depth\"  |\"table\"  |\"price\"  |\"x\"   |\"y\"   |\"z\"   |\n",
      "------------------------------------------------------------------------------------------------\n",
      "|0.23     |Ideal      |E        |SI2        |61.5     |55.0     |326      |3.95  |3.98  |2.43  |\n",
      "|0.21     |Premium    |E        |SI1        |59.8     |61.0     |326      |3.89  |3.84  |2.31  |\n",
      "|0.23     |Good       |E        |VS1        |56.9     |65.0     |327      |4.05  |4.07  |2.31  |\n",
      "|0.29     |Premium    |I        |VS2        |62.4     |58.0     |334      |4.20  |4.23  |2.63  |\n",
      "|0.31     |Good       |J        |SI2        |63.3     |58.0     |335      |4.34  |4.35  |2.75  |\n",
      "|0.24     |Very Good  |J        |VVS2       |62.8     |57.0     |336      |3.94  |3.96  |2.48  |\n",
      "|0.24     |Very Good  |I        |VVS1       |62.3     |57.0     |336      |3.95  |3.98  |2.47  |\n",
      "|0.26     |Very Good  |H        |SI1        |61.9     |55.0     |337      |4.07  |4.11  |2.53  |\n",
      "|0.22     |Fair       |E        |VS2        |65.1     |61.0     |337      |3.87  |3.78  |2.49  |\n",
      "|0.23     |Very Good  |H        |VS1        |59.4     |61.0     |338      |4.00  |4.05  |2.39  |\n",
      "------------------------------------------------------------------------------------------------\n",
      "\n",
      "-------------------------------------------------------------------------------------------------------------------------------------------------------------------------------------------------\n",
      "|\"SUMMARY\"  |\"carat\"             |\"cut\"      |\"color\"  |\"clarity\"  |\"depth\"             |\"table\"             |\"price\"             |\"x\"                 |\"y\"                |\"z\"                 |\n",
      "-------------------------------------------------------------------------------------------------------------------------------------------------------------------------------------------------\n",
      "|count      |53940.0             |53940      |53940    |53940      |53940.0             |53940.0             |53940.0             |53940.0             |53940.0            |53940.0             |\n",
      "|mean       |0.79793975          |NULL       |NULL     |NULL       |61.7494049          |57.4571839          |3932.799722         |5.73115721          |5.73452595         |3.53873378          |\n",
      "|stddev     |0.4740112443813965  |NULL       |NULL     |NULL       |1.4326213177249598  |2.2344905638646138  |3989.4397381463227  |1.1217607467726798  |1.142134674108093  |0.7056988469595228  |\n",
      "|min        |0.2                 |Fair       |D        |I1         |43.0                |43.0                |326.0               |0.0                 |0.0                |0.0                 |\n",
      "|max        |5.01                |Very Good  |J        |VVS2       |79.0                |95.0                |18823.0             |10.74               |58.9               |31.8                |\n",
      "-------------------------------------------------------------------------------------------------------------------------------------------------------------------------------------------------\n",
      "\n"
     ]
    }
   ],
   "source": [
    "# Show the file before loading\n",
    "session.sql(\"LS @DIAMONDS_ASSETS;\").show()\n",
    "\n",
    "# Create a Snowpark DataFrame that is configured to load data from the CSV file\n",
    "# We can now infer schema from CSV files.\n",
    "diamonds_df = session.read.options({\"field_delimiter\": \",\",\n",
    "                                    \"field_optionally_enclosed_by\": '\"',\n",
    "                                    \"infer_schema\": True,\n",
    "                                    \"parse_header\": True}).csv(\"@DIAMONDS_ASSETS\")\n",
    "\n",
    "diamonds_df.show()\n",
    "\n",
    "# Look at descriptive stats on the DataFrame\n",
    "diamonds_df.describe().show()"
   ]
  },
  {
   "cell_type": "code",
   "execution_count": 4,
   "metadata": {},
   "outputs": [
    {
     "data": {
      "text/plain": [
       "['\"carat\"',\n",
       " '\"cut\"',\n",
       " '\"color\"',\n",
       " '\"clarity\"',\n",
       " '\"depth\"',\n",
       " '\"table\"',\n",
       " '\"price\"',\n",
       " '\"x\"',\n",
       " '\"y\"',\n",
       " '\"z\"']"
      ]
     },
     "execution_count": 4,
     "metadata": {},
     "output_type": "execute_result"
    }
   ],
   "source": [
    "diamonds_df.columns"
   ]
  },
  {
   "cell_type": "markdown",
   "metadata": {},
   "source": [
    "### Data cleaning"
   ]
  },
  {
   "cell_type": "markdown",
   "metadata": {},
   "source": [
    "First, let's force headers to uppercase using Snowpark DataFrame operations for standardization when columns are later written to a Snowflake table."
   ]
  },
  {
   "cell_type": "code",
   "execution_count": 5,
   "metadata": {},
   "outputs": [
    {
     "name": "stdout",
     "output_type": "stream",
     "text": [
      "----------------------------------------------------------------------------------------------------\n",
      "|\"CARAT\"  |\"CUT\"      |\"COLOR\"  |\"CLARITY\"  |\"DEPTH\"  |\"TABLE_PCT\"  |\"PRICE\"  |\"X\"   |\"Y\"   |\"Z\"   |\n",
      "----------------------------------------------------------------------------------------------------\n",
      "|0.23     |Ideal      |E        |SI2        |61.5     |55.0         |326      |3.95  |3.98  |2.43  |\n",
      "|0.21     |Premium    |E        |SI1        |59.8     |61.0         |326      |3.89  |3.84  |2.31  |\n",
      "|0.23     |Good       |E        |VS1        |56.9     |65.0         |327      |4.05  |4.07  |2.31  |\n",
      "|0.29     |Premium    |I        |VS2        |62.4     |58.0         |334      |4.20  |4.23  |2.63  |\n",
      "|0.31     |Good       |J        |SI2        |63.3     |58.0         |335      |4.34  |4.35  |2.75  |\n",
      "|0.24     |Very Good  |J        |VVS2       |62.8     |57.0         |336      |3.94  |3.96  |2.48  |\n",
      "|0.24     |Very Good  |I        |VVS1       |62.3     |57.0         |336      |3.95  |3.98  |2.47  |\n",
      "|0.26     |Very Good  |H        |SI1        |61.9     |55.0         |337      |4.07  |4.11  |2.53  |\n",
      "|0.22     |Fair       |E        |VS2        |65.1     |61.0         |337      |3.87  |3.78  |2.49  |\n",
      "|0.23     |Very Good  |H        |VS1        |59.4     |61.0         |338      |4.00  |4.05  |2.39  |\n",
      "----------------------------------------------------------------------------------------------------\n",
      "\n"
     ]
    }
   ],
   "source": [
    "# Force headers to uppercase\n",
    "for colname in diamonds_df.columns:\n",
    "    if colname == '\"table\"':\n",
    "       new_colname = \"TABLE_PCT\"\n",
    "    else:\n",
    "        new_colname = str.upper(colname)\n",
    "    diamonds_df = diamonds_df.with_column_renamed(colname, new_colname)\n",
    "\n",
    "diamonds_df.show()"
   ]
  },
  {
   "cell_type": "markdown",
   "metadata": {},
   "source": [
    "Next, we standardize the category formatting for `CUT` using Snowpark DataFrame operations.\n",
    "\n",
    "This way, when we write to a Snowflake table, there will be no inconsistencies in how the Snowpark DataFrame will read in the category names. Secondly, the feature transformations on categoricals will be easier to encode."
   ]
  },
  {
   "cell_type": "code",
   "execution_count": 6,
   "metadata": {},
   "outputs": [
    {
     "name": "stdout",
     "output_type": "stream",
     "text": [
      "----------------------------------------------------------------------------------------------------\n",
      "|\"CARAT\"  |\"COLOR\"  |\"CLARITY\"  |\"DEPTH\"  |\"TABLE_PCT\"  |\"PRICE\"  |\"X\"   |\"Y\"   |\"Z\"   |\"CUT\"      |\n",
      "----------------------------------------------------------------------------------------------------\n",
      "|0.23     |E        |SI2        |61.5     |55.0         |326      |3.95  |3.98  |2.43  |IDEAL      |\n",
      "|0.21     |E        |SI1        |59.8     |61.0         |326      |3.89  |3.84  |2.31  |PREMIUM    |\n",
      "|0.23     |E        |VS1        |56.9     |65.0         |327      |4.05  |4.07  |2.31  |GOOD       |\n",
      "|0.29     |I        |VS2        |62.4     |58.0         |334      |4.20  |4.23  |2.63  |PREMIUM    |\n",
      "|0.31     |J        |SI2        |63.3     |58.0         |335      |4.34  |4.35  |2.75  |GOOD       |\n",
      "|0.24     |J        |VVS2       |62.8     |57.0         |336      |3.94  |3.96  |2.48  |VERY_GOOD  |\n",
      "|0.24     |I        |VVS1       |62.3     |57.0         |336      |3.95  |3.98  |2.47  |VERY_GOOD  |\n",
      "|0.26     |H        |SI1        |61.9     |55.0         |337      |4.07  |4.11  |2.53  |VERY_GOOD  |\n",
      "|0.22     |E        |VS2        |65.1     |61.0         |337      |3.87  |3.78  |2.49  |FAIR       |\n",
      "|0.23     |H        |VS1        |59.4     |61.0         |338      |4.00  |4.05  |2.39  |VERY_GOOD  |\n",
      "----------------------------------------------------------------------------------------------------\n",
      "\n"
     ]
    }
   ],
   "source": [
    "def fix_values(columnn):\n",
    "    return F.upper(F.regexp_replace(F.col(columnn), '[^a-zA-Z0-9]+', '_'))\n",
    "\n",
    "for col in [\"CUT\"]:\n",
    "    diamonds_df = diamonds_df.with_column(col, fix_values(col))\n",
    "\n",
    "diamonds_df.show()"
   ]
  },
  {
   "cell_type": "markdown",
   "metadata": {},
   "source": [
    "Check the schema."
   ]
  },
  {
   "cell_type": "code",
   "execution_count": 7,
   "metadata": {},
   "outputs": [
    {
     "data": {
      "text/plain": [
       "[StructField('CARAT', DecimalType(3, 2), nullable=True),\n",
       " StructField('COLOR', StringType(16777216), nullable=True),\n",
       " StructField('CLARITY', StringType(16777216), nullable=True),\n",
       " StructField('DEPTH', DecimalType(3, 1), nullable=True),\n",
       " StructField('TABLE_PCT', DecimalType(3, 1), nullable=True),\n",
       " StructField('PRICE', LongType(), nullable=True),\n",
       " StructField('X', DecimalType(4, 2), nullable=True),\n",
       " StructField('Y', DecimalType(4, 2), nullable=True),\n",
       " StructField('Z', DecimalType(4, 2), nullable=True),\n",
       " StructField('CUT', StringType(16777216), nullable=True)]"
      ]
     },
     "execution_count": 7,
     "metadata": {},
     "output_type": "execute_result"
    }
   ],
   "source": [
    "list(diamonds_df.schema)"
   ]
  },
  {
   "cell_type": "markdown",
   "metadata": {},
   "source": [
    "Finally, let's cast the decimal types to DoubleType() since DecimalType() isn't support by Snowpark ML at the moment."
   ]
  },
  {
   "cell_type": "code",
   "execution_count": 8,
   "metadata": {},
   "outputs": [
    {
     "name": "stdout",
     "output_type": "stream",
     "text": [
      "----------------------------------------------------------------------------------------------------\n",
      "|\"COLOR\"  |\"CLARITY\"  |\"PRICE\"  |\"CUT\"      |\"CARAT\"  |\"X\"   |\"Y\"   |\"Z\"   |\"DEPTH\"  |\"TABLE_PCT\"  |\n",
      "----------------------------------------------------------------------------------------------------\n",
      "|E        |SI2        |326      |IDEAL      |0.23     |3.95  |3.98  |2.43  |61.5     |55.0         |\n",
      "|E        |SI1        |326      |PREMIUM    |0.21     |3.89  |3.84  |2.31  |59.8     |61.0         |\n",
      "|E        |VS1        |327      |GOOD       |0.23     |4.05  |4.07  |2.31  |56.9     |65.0         |\n",
      "|I        |VS2        |334      |PREMIUM    |0.29     |4.2   |4.23  |2.63  |62.4     |58.0         |\n",
      "|J        |SI2        |335      |GOOD       |0.31     |4.34  |4.35  |2.75  |63.3     |58.0         |\n",
      "|J        |VVS2       |336      |VERY_GOOD  |0.24     |3.94  |3.96  |2.48  |62.8     |57.0         |\n",
      "|I        |VVS1       |336      |VERY_GOOD  |0.24     |3.95  |3.98  |2.47  |62.3     |57.0         |\n",
      "|H        |SI1        |337      |VERY_GOOD  |0.26     |4.07  |4.11  |2.53  |61.9     |55.0         |\n",
      "|E        |VS2        |337      |FAIR       |0.22     |3.87  |3.78  |2.49  |65.1     |61.0         |\n",
      "|H        |VS1        |338      |VERY_GOOD  |0.23     |4.0   |4.05  |2.39  |59.4     |61.0         |\n",
      "----------------------------------------------------------------------------------------------------\n",
      "\n"
     ]
    }
   ],
   "source": [
    "for colname in [\"CARAT\", \"X\", \"Y\", \"Z\", \"DEPTH\", \"TABLE_PCT\"]:\n",
    "    diamonds_df = diamonds_df.with_column(colname, diamonds_df[colname].cast(DoubleType()))\n",
    "\n",
    "diamonds_df.show()"
   ]
  },
  {
   "cell_type": "markdown",
   "metadata": {},
   "source": [
    "### Write cleaned data to a Snowflake table"
   ]
  },
  {
   "cell_type": "code",
   "execution_count": 9,
   "metadata": {},
   "outputs": [],
   "source": [
    "diamonds_df.write.mode('overwrite').save_as_table('diamonds')"
   ]
  },
  {
   "cell_type": "code",
   "execution_count": 10,
   "metadata": {},
   "outputs": [],
   "source": [
    "session.close()"
   ]
  }
 ],
 "metadata": {
  "kernelspec": {
   "display_name": "Python 3",
   "language": "python",
   "name": "python3"
  },
  "language_info": {
   "codemirror_mode": {
    "name": "ipython",
    "version": 3
   },
   "file_extension": ".py",
   "mimetype": "text/x-python",
   "name": "python",
   "nbconvert_exporter": "python",
   "pygments_lexer": "ipython3",
   "version": "3.10.13"
  }
 },
 "nbformat": 4,
 "nbformat_minor": 4
}
